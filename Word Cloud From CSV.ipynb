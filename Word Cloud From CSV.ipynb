{
 "cells": [
  {
   "cell_type": "code",
   "execution_count": null,
   "id": "00c0cf79",
   "metadata": {},
   "outputs": [],
   "source": [
    "# !pip install numpy scipy matplotlib ipython jupyter pandas sympy nose wordcloud"
   ]
  },
  {
   "cell_type": "code",
   "execution_count": null,
   "id": "e50c3703",
   "metadata": {},
   "outputs": [],
   "source": [
    "from wordcloud import WordCloud, STOPWORDS \n",
    "import matplotlib.pyplot as plt \n",
    "import pandas as pd\n",
    "%matplotlib notebook"
   ]
  },
  {
   "cell_type": "code",
   "execution_count": null,
   "id": "b6eca8b9",
   "metadata": {},
   "outputs": [],
   "source": [
    "df = pd.read_csv(r'Assets\\nightwish_lyrics.csv')\n",
    "df.head()"
   ]
  },
  {
   "cell_type": "code",
   "execution_count": null,
   "id": "981aafba",
   "metadata": {},
   "outputs": [],
   "source": [
    "comment_words = '' \n",
    "stopwords = set(STOPWORDS)\n",
    "stopwords = ['nan', 'NaN', 'Nan', 'NAN'] + list(STOPWORDS)"
   ]
  },
  {
   "cell_type": "code",
   "execution_count": null,
   "id": "dd520c5d",
   "metadata": {},
   "outputs": [],
   "source": [
    "values = df['lyric'].values\n",
    "\n",
    "for val in values: \n",
    "    val = str(val) \n",
    "    tokens = val.split() \n",
    "    for i in range(len(tokens)): \n",
    "        tokens[i] = tokens[i].lower() \n",
    "    comment_words += ' '.join(tokens)+' '\n",
    "    "
   ]
  },
  {
   "cell_type": "code",
   "execution_count": null,
   "id": "5bf3d27a",
   "metadata": {},
   "outputs": [],
   "source": [
    "text = \"\"\"...\"\"\" # your text\n",
    "\n",
    "text.split()\n",
    "count = {}\n",
    "for word in text.split():\n",
    "\tcount.setdefault(word, 0)\n",
    "\tcount[word] += 1\n",
    "\n",
    "list_count = list(count.items())\n",
    "list_count.sort(key=lambda i: i[1], reverse=True)\n",
    "for i in list_count:\n",
    "    print(i[0], ':', i[1])\n",
    "    "
   ]
  },
  {
   "cell_type": "code",
   "execution_count": null,
   "id": "56ecd180",
   "metadata": {},
   "outputs": [],
   "source": [
    "facecolor = 'White'\n",
    "\n",
    "wordcloud = WordCloud(width=800, height=600, \n",
    "            background_color=facecolor, \n",
    "            stopwords=stopwords,\n",
    "            min_font_size=10).generate(comment_words)\n",
    "    "
   ]
  },
  {
   "cell_type": "code",
   "execution_count": null,
   "id": "75b65b0c",
   "metadata": {},
   "outputs": [],
   "source": [
    "plt.figure(figsize=(10,6), facecolor=facecolor) \n",
    "plt.imshow(wordcloud) \n",
    "plt.axis('off') \n",
    "plt.tight_layout(pad=2)\n",
    "    "
   ]
  }
 ],
 "metadata": {
  "kernelspec": {
   "display_name": "Python 3 (ipykernel)",
   "language": "python",
   "name": "python3"
  },
  "language_info": {
   "codemirror_mode": {
    "name": "ipython",
    "version": 3
   },
   "file_extension": ".py",
   "mimetype": "text/x-python",
   "name": "python",
   "nbconvert_exporter": "python",
   "pygments_lexer": "ipython3",
   "version": "3.10.1"
  }
 },
 "nbformat": 4,
 "nbformat_minor": 5
}
